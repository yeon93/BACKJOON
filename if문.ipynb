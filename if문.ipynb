{
 "cells": [
  {
   "cell_type": "code",
   "execution_count": null,
   "metadata": {},
   "outputs": [],
   "source": [
    "#1330, 두 수 비교하기\n",
    "a, b = map(int, input().split())\n",
    "    \n",
    "if (a**2 <= 10000**2) and (b**2 <= 10000**2): \n",
    "    if a == b:\n",
    "        print('==')\n",
    "    elif a > b:\n",
    "        print('>')\n",
    "    else:\n",
    "        print('<')"
   ]
  },
  {
   "cell_type": "code",
   "execution_count": null,
   "metadata": {},
   "outputs": [],
   "source": [
    "#9598, 시험 성적\n",
    "a = int(input())\n",
    "\n",
    "if a >= 90:\n",
    "    print('A')\n",
    "elif a >= 80:\n",
    "    print('B')\n",
    "elif a >= 70:\n",
    "    print('C')\n",
    "elif a >= 60:\n",
    "    print('D')\n",
    "else:\n",
    "    print('F')"
   ]
  },
  {
   "cell_type": "code",
   "execution_count": null,
   "metadata": {},
   "outputs": [],
   "source": [
    "#2753, 윤년\n",
    "year = int(input())\n",
    "\n",
    "yoon_year = (year % 4 == 0) and ((year % 100 != 0) or (year % 400 == 0))\n",
    "\n",
    "print(1 if yoon_year else 0)"
   ]
  },
  {
   "cell_type": "code",
   "execution_count": null,
   "metadata": {},
   "outputs": [],
   "source": [
    "#14681, 사분면 고르기\n",
    "x = int(input())\n",
    "y = int(input())\n",
    "\n",
    "if (x ** 2 <= 1000 ** 2) and (x != 0) and (y ** 2 <= 1000 ** 2) and (y != 0):\n",
    "    if (x > 0) and (y > 0):\n",
    "        print(1)\n",
    "    elif (x < 0) and (y > 0):\n",
    "        print(2)\n",
    "    elif (x < 0) and (y < 0):\n",
    "        print(3)\n",
    "    else:\n",
    "        print(4)"
   ]
  },
  {
   "cell_type": "code",
   "execution_count": null,
   "metadata": {},
   "outputs": [],
   "source": [
    "#2884, 알람 시계\n",
    "h, m = map(int,input().split())\n",
    "\n",
    "if m >= 45:\n",
    "    print(h, m-45)\n",
    "elif (h > 0 and m < 45):\n",
    "    print(h-1, m+15)\n",
    "else:\n",
    "    print(23, m+15)"
   ]
  },
  {
   "cell_type": "code",
   "execution_count": null,
   "metadata": {},
   "outputs": [],
   "source": [
    "#2525, 오븐 시계\n",
    "hour, min = map(int, input().split())\n",
    "time = int(input())\n",
    "\n",
    "min += time\n",
    "if (min + time) // 60 >= 1:\n",
    "    hour += min // 60\n",
    "    min %= 60\n",
    "if hour >= 24:\n",
    "    hour %= 24 \n",
    "    \n",
    "    \n",
    "print(hour, min)"
   ]
  },
  {
   "cell_type": "code",
   "execution_count": 3,
   "metadata": {},
   "outputs": [
    {
     "name": "stdout",
     "output_type": "stream",
     "text": [
      "12000\n"
     ]
    }
   ],
   "source": [
    "#2480, 주사위 세개\n",
    "a, b, c = map(int, input().split())\n",
    "\n",
    "if a==b and b==c:\n",
    "    print(10000+a*1000)\n",
    "elif a==b or a==c:\n",
    "    print(1000+a*100)\n",
    "elif b==c:\n",
    "    print(1000+b*100)\n",
    "else:\n",
    "    max_num = max(a, b, c)\n",
    "    print(max_num * 100)"
   ]
  }
 ],
 "metadata": {
  "interpreter": {
   "hash": "de9dcba0b6417c9a7ce093fc94d7d03a8da118bbfa8f3e9b1eb49d23368ce09c"
  },
  "kernelspec": {
   "display_name": "Python 3.9.7 ('base')",
   "language": "python",
   "name": "python3"
  },
  "language_info": {
   "codemirror_mode": {
    "name": "ipython",
    "version": 3
   },
   "file_extension": ".py",
   "mimetype": "text/x-python",
   "name": "python",
   "nbconvert_exporter": "python",
   "pygments_lexer": "ipython3",
   "version": "3.9.7"
  },
  "orig_nbformat": 4
 },
 "nbformat": 4,
 "nbformat_minor": 2
}
