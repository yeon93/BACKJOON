{
 "cells": [
  {
   "cell_type": "code",
   "execution_count": null,
   "metadata": {},
   "outputs": [],
   "source": [
    "#1712, 손익분기점\n",
    "a, b, c = map(int, input().split())\n",
    "\n",
    "if b >= c:\n",
    "    print(-1)\n",
    "else:\n",
    "    print(a // (c-b) + 1)\n"
   ]
  },
  {
   "cell_type": "code",
   "execution_count": null,
   "metadata": {},
   "outputs": [],
   "source": [
    "#2292, 벌집\n",
    "n = int(input())\n",
    "\n",
    "num = 1       #벌집의 개수\n",
    "count = 1     #몇칸 떨어져있는지\n",
    "\n",
    "while n > num:\n",
    "    num += 6 * count\n",
    "    count += 1\n",
    "print(count)    "
   ]
  },
  {
   "cell_type": "code",
   "execution_count": null,
   "metadata": {},
   "outputs": [],
   "source": [
    "#1193, 분수찾기\n",
    "x = int(input())\n",
    "n = 1\n",
    "\n",
    "while x > n*(n+1)//2:\n",
    "    n += 1\n",
    "    \n",
    "num = n + 1\n",
    "if num % 2 == 1:\n",
    "    son = x - n*(n-1)//2\n",
    "    mom = num - son\n",
    "else:\n",
    "    mom = x - n*(n-1)//2\n",
    "    son = num - mom\n",
    "\n",
    "print(f'{son}/{mom}')"
   ]
  },
  {
   "cell_type": "code",
   "execution_count": null,
   "metadata": {},
   "outputs": [],
   "source": [
    "#2525, 오븐시계\n",
    "hour, min = map(int, input().split())\n",
    "time = int(input())\n",
    "\n",
    "min += time\n",
    "if (min + time) // 60 >= 1:\n",
    "    hour += min // 60\n",
    "    min %= 60\n",
    "if hour >= 24:\n",
    "    hour %= 24 \n",
    "    \n",
    "    \n",
    "print(hour, min)"
   ]
  },
  {
   "cell_type": "code",
   "execution_count": null,
   "metadata": {},
   "outputs": [],
   "source": [
    "#2869, 달팽이는 올라가고 싶다\n",
    "import math\n",
    "a, b, v = map(int, input().split())\n",
    "\n",
    "if b == 1:\n",
    "    print(v - a + 1)\n",
    "else:\n",
    "    print(math.ceil((v-b)/(a-b)))"
   ]
  },
  {
   "cell_type": "code",
   "execution_count": null,
   "metadata": {},
   "outputs": [],
   "source": [
    "#10250, ACM 호텔\n",
    "import math\n",
    "num = int(input())\n",
    "\n",
    "for i in range(num):\n",
    "    h, w, n = map(int, input().split()) \n",
    "    if n % h == 0:\n",
    "        hundred = h\n",
    "    else: \n",
    "        hundred = n % h\n",
    "    one = math.ceil(n/h)\n",
    "    room_number = hundred*100 + one\n",
    "    print(room_number)"
   ]
  },
  {
   "cell_type": "code",
   "execution_count": null,
   "metadata": {},
   "outputs": [],
   "source": [
    "#2775, 부녀회장이 될테야\n",
    "t = int(input())\n",
    "\n",
    "for i in range(t):\n",
    "    k = int(input())\n",
    "    n = int(input())\n",
    "    result = [i for i in range(1, n+1)]\n",
    "    for j in range(k):\n",
    "        for x in range(1, n):\n",
    "            result[x] += result[x-1]\n",
    "    print(result[-1])"
   ]
  },
  {
   "cell_type": "code",
   "execution_count": null,
   "metadata": {},
   "outputs": [],
   "source": [
    "#2839, 설탕 배달\n",
    "n = int(input()) \n",
    "result = 0\n",
    "\n",
    "while n >= 0:\n",
    "    if n % 5 == 0: \n",
    "        result += n // 5 \n",
    "        print(result)\n",
    "        break\n",
    "    n -= 3 \n",
    "    result += 1 \n",
    "else:\n",
    "    print(-1) "
   ]
  },
  {
   "cell_type": "code",
   "execution_count": null,
   "metadata": {},
   "outputs": [],
   "source": [
    "#10757, 큰 수 A+B\n",
    "a, b = map(int, input().split())\n",
    "\n",
    "print(a+b)"
   ]
  }
 ],
 "metadata": {
  "interpreter": {
   "hash": "10849477cf3963440c57948fd9fa317275da9de7c87904b15f58ad03b74af81c"
  },
  "kernelspec": {
   "display_name": "Python 3.8.0 (''section5'')",
   "language": "python",
   "name": "python3"
  },
  "language_info": {
   "codemirror_mode": {
    "name": "ipython",
    "version": 3
   },
   "file_extension": ".py",
   "mimetype": "text/x-python",
   "name": "python",
   "nbconvert_exporter": "python",
   "pygments_lexer": "ipython3",
   "version": "3.9.7"
  },
  "orig_nbformat": 4
 },
 "nbformat": 4,
 "nbformat_minor": 2
}
