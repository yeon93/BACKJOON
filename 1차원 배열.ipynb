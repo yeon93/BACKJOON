{
 "cells": [
  {
   "cell_type": "code",
   "execution_count": 6,
   "id": "2d42e116",
   "metadata": {},
   "outputs": [
    {
     "name": "stdout",
     "output_type": "stream",
     "text": [
      "5\n",
      "20 10 35 30 7\n",
      "7 35\n"
     ]
    }
   ],
   "source": [
    "#10818. 최소, 최대\n",
    "num = int(input())\n",
    "num_list = list(map(int, input().split()))\n",
    "    \n",
    "print(min(num_list), max(num_list))"
   ]
  },
  {
   "cell_type": "code",
   "execution_count": 8,
   "id": "b230a0e7",
   "metadata": {
    "scrolled": true
   },
   "outputs": [
    {
     "name": "stdout",
     "output_type": "stream",
     "text": [
      "3\n",
      "29\n",
      "38\n",
      "12\n",
      "57\n",
      "74\n",
      "30\n",
      "85\n",
      "61\n",
      "85\n",
      "8\n"
     ]
    }
   ],
   "source": [
    "#2562, 최댓값\n",
    "num_list = []\n",
    "for i in range(9):\n",
    "    num_list.append(int(input()))\n",
    "    \n",
    "max_num = max(num_list)\n",
    "\n",
    "print(max_num)\n",
    "print(num_list.index(max_num)+1)"
   ]
  },
  {
   "cell_type": "code",
   "execution_count": 13,
   "id": "de61dc92",
   "metadata": {},
   "outputs": [
    {
     "name": "stdout",
     "output_type": "stream",
     "text": [
      "150\n",
      "266\n",
      "427\n",
      "3\n",
      "1\n",
      "0\n",
      "2\n",
      "0\n",
      "0\n",
      "0\n",
      "2\n",
      "0\n",
      "0\n"
     ]
    }
   ],
   "source": [
    "#2577, 숫자의 개수\n",
    "a, b, c = int(input()), int(input()), int(input())\n",
    "\n",
    "num = str(a * b * c)\n",
    "\n",
    "nums = [str(num) for num in range(10)]\n",
    "for i in nums:\n",
    "    print(num.count(i))"
   ]
  },
  {
   "cell_type": "code",
   "execution_count": 18,
   "id": "8c179ac7",
   "metadata": {},
   "outputs": [
    {
     "name": "stdout",
     "output_type": "stream",
     "text": [
      "1\n",
      "2\n",
      "3\n",
      "4\n",
      "5\n",
      "6\n",
      "7\n",
      "8\n",
      "9\n",
      "9\n",
      "9\n"
     ]
    }
   ],
   "source": [
    "# 3052, 나머지\n",
    "num_list = []\n",
    "for i in range(10):\n",
    "    num = int(input())\n",
    "    remain = num % 42\n",
    "    if remain not in num_list:\n",
    "        num_list.append(remain)\n",
    "    \n",
    "print(len(num_list))"
   ]
  },
  {
   "cell_type": "code",
   "execution_count": 36,
   "id": "66d29022",
   "metadata": {},
   "outputs": [
    {
     "name": "stdout",
     "output_type": "stream",
     "text": [
      "3\n",
      "40 80 60\n",
      "75.0\n"
     ]
    }
   ],
   "source": [
    "###### 1546, 평균\n",
    "subjects = int(input())\n",
    "score_list = list(map(int, input().split()))\n",
    "\n",
    "max_score = max(score_list)\n",
    "for index, score in enumerate(score_list):\n",
    "    score_list[index] = score / max_score * 100\n",
    "\n",
    "print(sum(score_list) / len(score_list))"
   ]
  },
  {
   "cell_type": "code",
   "execution_count": 64,
   "id": "6a3e5431",
   "metadata": {},
   "outputs": [
    {
     "data": {
      "text/plain": [
       "['OO', 'O', 'OOO']"
      ]
     },
     "execution_count": 64,
     "metadata": {},
     "output_type": "execute_result"
    }
   ],
   "source": [
    "test_ox = 'OOXXOXXOOO'\n",
    "p = re.compile('O+')\n",
    "result = p.findall(test_ox)\n",
    "result"
   ]
  },
  {
   "cell_type": "code",
   "execution_count": 66,
   "id": "5d8e5056",
   "metadata": {
    "scrolled": false
   },
   "outputs": [
    {
     "name": "stdout",
     "output_type": "stream",
     "text": [
      "5\n",
      "OOXXOXXOOO\n",
      "10\n",
      "OOXXOOXXOO\n",
      "9\n",
      "OXOXOXOXOXOXOX\n",
      "7\n",
      "OOOOOOOOOO\n",
      "55\n",
      "OOOOXOOOOXOOOOX\n",
      "30\n"
     ]
    }
   ],
   "source": [
    "#8958, OX퀴즈\n",
    "case = int(input())\n",
    "for i in range(case):\n",
    "    test_ox = input()\n",
    "    score = 0\n",
    "    total = 0\n",
    "    \n",
    "    for j in test_ox:\n",
    "        if j == 'O':\n",
    "            score += 1\n",
    "            total += score\n",
    "        else:\n",
    "            score = 0\n",
    "    print(total)"
   ]
  },
  {
   "cell_type": "code",
   "execution_count": 6,
   "id": "80569685",
   "metadata": {
    "scrolled": true
   },
   "outputs": [
    {
     "name": "stdout",
     "output_type": "stream",
     "text": [
      "5\n",
      "5 50 50 70 80 100\n",
      "40.000%\n",
      "7 100 95 90 80 70 60 50\n",
      "57.143%\n",
      "3 70 90 80\n",
      "33.333%\n",
      "3 70 90 81\n",
      "66.667%\n",
      "9 100 99 98 97 96 95 94 93 91\n",
      "55.556%\n"
     ]
    }
   ],
   "source": [
    "#4344, 평균은 넘겠지\n",
    "case = int(input())\n",
    "for i in range(case):\n",
    "    score_list = list(map(int, input().split()))\n",
    "    avg_score = sum(score_list[1:]) / score_list[0]\n",
    "    count = 0\n",
    "    for score in score_list[1:]:\n",
    "        if score > avg_score:\n",
    "            count += 1\n",
    "    result = count / score_list[0] * 100\n",
    "    print(format(result, '.3f')+'%')"
   ]
  }
 ],
 "metadata": {
  "kernelspec": {
   "display_name": "Python 3 (ipykernel)",
   "language": "python",
   "name": "python3"
  },
  "language_info": {
   "codemirror_mode": {
    "name": "ipython",
    "version": 3
   },
   "file_extension": ".py",
   "mimetype": "text/x-python",
   "name": "python",
   "nbconvert_exporter": "python",
   "pygments_lexer": "ipython3",
   "version": "3.8.0"
  }
 },
 "nbformat": 4,
 "nbformat_minor": 5
}
