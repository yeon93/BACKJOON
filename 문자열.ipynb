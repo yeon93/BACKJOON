{
 "cells": [
  {
   "cell_type": "code",
   "execution_count": 3,
   "metadata": {},
   "outputs": [
    {
     "name": "stdout",
     "output_type": "stream",
     "text": [
      "57\n"
     ]
    }
   ],
   "source": [
    "#11654, 아스키 코드\n",
    "char = input()\n",
    "print(ord(char))"
   ]
  },
  {
   "cell_type": "code",
   "execution_count": 7,
   "metadata": {},
   "outputs": [
    {
     "name": "stdout",
     "output_type": "stream",
     "text": [
      "15\n"
     ]
    }
   ],
   "source": [
    "#11720, 숫자의 합\n",
    "length = int(input())\n",
    "num = input()\n",
    "\n",
    "total = 0\n",
    "for i in range(length):\n",
    "    total += int(num[i])\n",
    "\n",
    "print(total)"
   ]
  },
  {
   "cell_type": "code",
   "execution_count": 10,
   "metadata": {},
   "outputs": [
    {
     "name": "stdout",
     "output_type": "stream",
     "text": [
      "0 1 2 -1 -1 -1 -1 -1 -1 -1 -1 -1 -1 -1 -1 -1 -1 -1 -1 -1 -1 -1 -1 -1 -1 -1 "
     ]
    }
   ],
   "source": [
    "#10809, 알파벳 찾기\n",
    "s = input()\n",
    "\n",
    "for i in range(ord('a'), ord('z')+1):\n",
    "    if chr(i) in s:\n",
    "        print(s.index(chr(i)), end=' ')\n",
    "    else:\n",
    "        print(-1, end=' ')"
   ]
  },
  {
   "cell_type": "code",
   "execution_count": 23,
   "metadata": {},
   "outputs": [
    {
     "name": "stdout",
     "output_type": "stream",
     "text": [
      "AAABBBCCC\n",
      "/////HHHHHTTTTTPPPPP"
     ]
    }
   ],
   "source": [
    "#2675, 문자열 반복\n",
    "t = int(input())\n",
    "\n",
    "for i in range(t-1):\n",
    "    s = list(map(str, input().split()))\n",
    "\n",
    "    for i in s[1]:\n",
    "        print(i*int(s[0]), end='')\n",
    "    print()\n",
    "    \n",
    "s = list(map(str, input().split()))\n",
    "\n",
    "for i in s[1]:\n",
    "    print(i*int(s[0]), end='')"
   ]
  },
  {
   "cell_type": "code",
   "execution_count": 73,
   "metadata": {},
   "outputs": [
    {
     "name": "stdout",
     "output_type": "stream",
     "text": [
      "A\n"
     ]
    }
   ],
   "source": [
    "#1157, 단어 공부\n",
    "word = input().upper()\n",
    "\n",
    "count = {}\n",
    "for i in word:\n",
    "    if i not in count.keys():\n",
    "        count[i] = 1\n",
    "    else:\n",
    "        count[i] += 1\n",
    "\n",
    "result_keys = count.keys()\n",
    "result_values = count.values()\n",
    "\n",
    "max_count = max(result_values)\n",
    "max_index = list(result_values).index(max_count)\n",
    "\n",
    "\n",
    "if list(result_values).count(max_count) > 1:\n",
    "    print('?')\n",
    "elif list(result_values).count(max_count) == 1:\n",
    "    print(list(result_keys)[max_index])"
   ]
  },
  {
   "cell_type": "code",
   "execution_count": 74,
   "metadata": {},
   "outputs": [
    {
     "name": "stdout",
     "output_type": "stream",
     "text": [
      "['The', 'Curious', 'Case', 'of', 'Benjamin', 'Button']\n"
     ]
    }
   ],
   "source": [
    "#1152, 단어의 개수\n",
    "word_list = list(map(str, input().split()))\n",
    "\n",
    "print(len(word_list))"
   ]
  },
  {
   "cell_type": "code",
   "execution_count": 92,
   "metadata": {},
   "outputs": [
    {
     "data": {
      "text/plain": [
       "(543, 876)"
      ]
     },
     "execution_count": 92,
     "metadata": {},
     "output_type": "execute_result"
    }
   ],
   "source": [
    "#2908, 상수\n",
    "a, b = input().split()\n",
    "\n",
    "a = int(a[::-1])\n",
    "b = int(b[::-1])\n",
    "\n",
    "if a > b:\n",
    "    print(a)\n",
    "else:\n",
    "    print(b)"
   ]
  },
  {
   "cell_type": "code",
   "execution_count": 99,
   "metadata": {},
   "outputs": [
    {
     "name": "stdout",
     "output_type": "stream",
     "text": [
      "13\n"
     ]
    }
   ],
   "source": [
    "#5622, 다이얼\n",
    "word = input()\n",
    "dial = ['ABC', 'DEF', 'GHI', 'JKL', 'MNO', 'PQRS', 'TUV', 'WXYZ']\n",
    "\n",
    "sec = 0\n",
    "for i in range(len(word)):\n",
    "    for j in dial:\n",
    "        if word[i] in j:\n",
    "            sec += dial.index(j) + 3\n",
    "\n",
    "print(sec)"
   ]
  },
  {
   "cell_type": "code",
   "execution_count": 125,
   "metadata": {},
   "outputs": [
    {
     "name": "stdout",
     "output_type": "stream",
     "text": [
      "6\n"
     ]
    }
   ],
   "source": [
    "#2941, 크로아티아 알파벳\n",
    "word = input()\n",
    "cr_alpha = ['c=', 'c-', 'dz=', 'd-', 'lj', 'nj', 's=', 'z=']\n",
    "\n",
    "count = 0\n",
    "for i in cr_alpha:\n",
    "    if word.count(i):\n",
    "        count += word.count(i)\n",
    "        word = word.replace(word[word.index(i):word.index(i)+len(i)], ' ')\n",
    "\n",
    "print(count + len(word.replace(' ','')))"
   ]
  },
  {
   "cell_type": "code",
   "execution_count": 135,
   "metadata": {},
   "outputs": [
    {
     "name": "stdout",
     "output_type": "stream",
     "text": [
      "3\n"
     ]
    }
   ],
   "source": [
    "#1316, 그룹 단어 체커\n",
    "num_words = int(input())\n",
    "count = num_words\n",
    "\n",
    "for i in range(num_words):\n",
    "    word = input()\n",
    "    \n",
    "    for i in range(len(word)-1):          \n",
    "        if word[i] == word[i+1]:          \n",
    "            pass\n",
    "        elif word[i] in word[i+1:]:    \n",
    "            count -= 1\n",
    "            break\n",
    "        \n",
    "print(count)"
   ]
  }
 ],
 "metadata": {
  "interpreter": {
   "hash": "10849477cf3963440c57948fd9fa317275da9de7c87904b15f58ad03b74af81c"
  },
  "kernelspec": {
   "display_name": "Python 3.8.0 (''section5'')",
   "language": "python",
   "name": "python3"
  },
  "language_info": {
   "codemirror_mode": {
    "name": "ipython",
    "version": 3
   },
   "file_extension": ".py",
   "mimetype": "text/x-python",
   "name": "python",
   "nbconvert_exporter": "python",
   "pygments_lexer": "ipython3",
   "version": "3.8.0"
  },
  "orig_nbformat": 4
 },
 "nbformat": 4,
 "nbformat_minor": 2
}
