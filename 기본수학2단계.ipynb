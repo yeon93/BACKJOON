{
 "cells": [
  {
   "cell_type": "code",
   "execution_count": null,
   "metadata": {},
   "outputs": [],
   "source": [
    "#1978, 소수 찾기\n",
    "import math\n",
    "n = int(input())\n",
    "input_numbers = map(int, input().split())\n",
    "\n",
    "def is_prime(num):\n",
    "    if num == 1:\n",
    "        return False\n",
    "    else:\n",
    "        for i in range(2, int(math.sqrt(num))+1):\n",
    "            if num % i == 0:\n",
    "                return False\n",
    "                break\n",
    "            else:\n",
    "                continue\n",
    "        return True\n",
    "\n",
    "count = 0         \n",
    "for number in input_numbers:\n",
    "    if is_prime(number):\n",
    "        count += 1\n",
    "print(count)"
   ]
  },
  {
   "cell_type": "code",
   "execution_count": null,
   "metadata": {},
   "outputs": [],
   "source": [
    "#2581, 소수\n",
    "import math\n",
    "m, n = int(input()), int(input())\n",
    "\n",
    "def return_prime(num):\n",
    "    if num == 1:\n",
    "        return False\n",
    "    else:\n",
    "        for i in range(2, int(math.sqrt(num))+1):\n",
    "            if num % i == 0:\n",
    "                return False\n",
    "                break\n",
    "            else:\n",
    "                continue\n",
    "        return num\n",
    "\n",
    "prime_sum = 0    \n",
    "prime_min = n\n",
    "for num in range(m, n+1):\n",
    "    if return_prime(num):\n",
    "        prime_sum += return_prime(num)\n",
    "        if prime_min > num:\n",
    "            prime_min = num\n",
    "if prime_sum == 0:\n",
    "    print(-1)\n",
    "else:\n",
    "    print(prime_sum)\n",
    "    print(prime_min)"
   ]
  },
  {
   "cell_type": "code",
   "execution_count": null,
   "metadata": {},
   "outputs": [],
   "source": [
    "#11653, 소인수분해\n",
    "n = int(input())\n",
    "devide_num = 2\n",
    "\n",
    "while True:\n",
    "    if n % devide_num == 0:\n",
    "        print(devide_num)\n",
    "        n /= devide_num\n",
    "    else:\n",
    "        devide_num += 1\n",
    "    if n == 1:\n",
    "        break"
   ]
  },
  {
   "cell_type": "code",
   "execution_count": null,
   "metadata": {},
   "outputs": [],
   "source": [
    "#1929, 소수 구하기\n",
    "import math\n",
    "m, n = map(int, input().split())\n",
    "\n",
    "def is_prime(num):\n",
    "    if num == 1:\n",
    "        return False\n",
    "    else:\n",
    "        for i in range(2, int(math.sqrt(num))+1):\n",
    "            if num % i == 0:\n",
    "                return False\n",
    "                break\n",
    "            else:\n",
    "                continue\n",
    "        return True\n",
    "    \n",
    "for num in range(m, n+1):\n",
    "    if is_prime(num):\n",
    "        print(num)"
   ]
  },
  {
   "cell_type": "code",
   "execution_count": null,
   "metadata": {},
   "outputs": [],
   "source": [
    "#4948 베르트랑 공준\n",
    "import math\n",
    "prime_numbers = []\n",
    "for i in range(2, 123456*2 +1):              #2 ~ 123456*2 하나씩\n",
    "    count = 0\n",
    "    for j in range(2, int(math.sqrt(i))+1):  #소수인지 판별\n",
    "        if i % j == 0:\n",
    "            count += 1\n",
    "            break\n",
    "    if count == 0:\n",
    "        prime_numbers.append(i)\n",
    "    \n",
    "while True:\n",
    "    n = int(input())\n",
    "    count = 0\n",
    "    if n == 0:\n",
    "        break\n",
    "    for i in prime_numbers:\n",
    "        if n < i <= 2*n:\n",
    "            count += 1\n",
    "    print(count)"
   ]
  },
  {
   "cell_type": "code",
   "execution_count": null,
   "metadata": {},
   "outputs": [],
   "source": [
    "#9020, 골드바흐의 추측\n",
    "import math\n",
    "prime_numbers = []\n",
    "for i in range(2, 10000):             \n",
    "    count = 0\n",
    "    for j in range(2, int(math.sqrt(i))+1): \n",
    "        if i % j == 0:\n",
    "            count += 1\n",
    "            break\n",
    "    if count == 0:\n",
    "        prime_numbers.append(i)\n",
    "        \n",
    "t = int(input())\n",
    "for i in range(t):\n",
    "    n = int(input())\n",
    "    for j in range(n//2, 1, -1):\n",
    "        if j in prime_numbers and n-j in prime_numbers:\n",
    "            print(j, n-j)\n",
    "            break            "
   ]
  },
  {
   "cell_type": "code",
   "execution_count": null,
   "metadata": {},
   "outputs": [],
   "source": [
    "#1085, 직사각형에서 탈출\n",
    "x, y, w, h = map(int, input().split())\n",
    "\n",
    "to_rectangle = [x, y, w-x, h-y]\n",
    "print(min(to_rectangle))"
   ]
  },
  {
   "cell_type": "code",
   "execution_count": null,
   "metadata": {},
   "outputs": [],
   "source": [
    "#3009, 네 번째 점\n",
    "x_points, y_points = [], []\n",
    "for i in range(3):\n",
    "    x, y = map(int, input().split())\n",
    "    x_points.append(x)\n",
    "    y_points.append(y)\n",
    "\n",
    "for i in x_points:\n",
    "    if x_points.count(i) == 1:\n",
    "        fourth_x = i\n",
    "        \n",
    "for i in y_points:\n",
    "    if y_points.count(i) == 1:\n",
    "        fourth_y = i\n",
    "\n",
    "print(fourth_x, fourth_y)"
   ]
  },
  {
   "cell_type": "code",
   "execution_count": null,
   "metadata": {},
   "outputs": [],
   "source": [
    "#4153, 직각삼각형\n",
    "while True:\n",
    "    a, b, c = map(int, input().split())\n",
    "    if a==0 and b==0 and c==0:\n",
    "        break\n",
    "    num = sorted([a, b, c])\n",
    "    if num[0]**2 + num[1]**2 == num[2]**2:\n",
    "        print('right')\n",
    "    else:\n",
    "        print('wrong')"
   ]
  },
  {
   "cell_type": "code",
   "execution_count": null,
   "metadata": {},
   "outputs": [],
   "source": [
    "#3053, 택시 기하학\n",
    "from math import pi\n",
    "r = int(input())\n",
    "print(round(pi * r * r, 6))\n",
    "print(round(2 * r * r, 6))"
   ]
  },
  {
   "cell_type": "code",
   "execution_count": null,
   "metadata": {},
   "outputs": [],
   "source": [
    "#1002, 터렛\n",
    "from math import sqrt\n",
    "t = int(input())\n",
    "for i in range(t):\n",
    "    x1, y1, r1, x2, y2, r2 = map(int, input().split())\n",
    "    distance = sqrt((x1-x2)**2 + (y1-y2)**2)  \n",
    "\n",
    "    if distance==0:          #조규현, 백승환이 같은 좌표에 있을 때\n",
    "        if r1==r2:           #류재명과의 거리가 같다면 류재명이 있을 수 있는 좌표는 무한대\n",
    "            print(-1)\n",
    "        else:\n",
    "            print(0)         #슈뢰딩거의 류재명이 아닌 이상, 거리가 다를 수는 없으므로 0\n",
    "        \n",
    "    elif abs(r1-r2)<distance<r1+r2:       \n",
    "        print(2)\n",
    "    elif distance==r1+r2 or abs(r1-r2)==distance:\n",
    "        print(1)\n",
    "    else:\n",
    "        print(0)"
   ]
  }
 ],
 "metadata": {
  "interpreter": {
   "hash": "702ecc25bf156e14d9df9ef3a5fdc4b988629ca0f5ee3f8cd11ceb825b3b8a58"
  },
  "kernelspec": {
   "display_name": "Python 3.9.12 64-bit (windows store)",
   "language": "python",
   "name": "python3"
  },
  "language_info": {
   "codemirror_mode": {
    "name": "ipython",
    "version": 3
   },
   "file_extension": ".py",
   "mimetype": "text/x-python",
   "name": "python",
   "nbconvert_exporter": "python",
   "pygments_lexer": "ipython3",
   "version": "3.9.12"
  },
  "orig_nbformat": 4
 },
 "nbformat": 4,
 "nbformat_minor": 2
}
