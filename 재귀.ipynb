{
 "cells": [
  {
   "cell_type": "code",
   "execution_count": null,
   "id": "5158d595",
   "metadata": {},
   "outputs": [],
   "source": [
    "#10872, 팩토리얼\n",
    "def factorial(n):\n",
    "    result = 1\n",
    "    if n > 0:\n",
    "        result = n * factorial(n-1)\n",
    "    return result\n",
    "\n",
    "n = int(input())\n",
    "print(factorial(n))"
   ]
  },
  {
   "cell_type": "code",
   "execution_count": null,
   "id": "5780a17e",
   "metadata": {},
   "outputs": [],
   "source": [
    "#10870, 피보나치 수 5\n",
    "def fib(n):\n",
    "    if n <= 1:\n",
    "        return n\n",
    "    return fib(n-1) + fib(n-2)\n",
    "\n",
    "n = int(input())\n",
    "print(fib(n))"
   ]
  },
  {
   "cell_type": "code",
   "execution_count": null,
   "id": "781f577d",
   "metadata": {},
   "outputs": [],
   "source": [
    "#2447, 별 찍기 - 10\n",
    "n = int(input())\n",
    "\n",
    "def draw_stars(n):\n",
    "    if n == 1:\n",
    "        return ['*']\n",
    "\n",
    "    stars = draw_stars(n // 3)\n",
    "    line = []\n",
    "\n",
    "    for star in stars:\n",
    "        line.append(star * 3)\n",
    "    for star in stars:\n",
    "        line.append(star + ' '*(n//3) + star)\n",
    "    for star in stars:\n",
    "        line.append(star * 3)\n",
    "\n",
    "    return line\n",
    "            \n",
    "print('\\n'.join(draw_stars(n)))"
   ]
  },
  {
   "cell_type": "code",
   "execution_count": null,
   "id": "c71bb9b0",
   "metadata": {},
   "outputs": [],
   "source": [
    "#11729, 하노이 탑 이동 순서\n"
   ]
  }
 ],
 "metadata": {
  "kernelspec": {
   "display_name": "Python 3 (ipykernel)",
   "language": "python",
   "name": "python3"
  },
  "language_info": {
   "codemirror_mode": {
    "name": "ipython",
    "version": 3
   },
   "file_extension": ".py",
   "mimetype": "text/x-python",
   "name": "python",
   "nbconvert_exporter": "python",
   "pygments_lexer": "ipython3",
   "version": "3.9.12"
  }
 },
 "nbformat": 4,
 "nbformat_minor": 5
}
